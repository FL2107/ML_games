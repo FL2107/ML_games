{
 "cells": [
  {
   "cell_type": "code",
   "execution_count": 1,
   "id": "f27a3b15",
   "metadata": {},
   "outputs": [],
   "source": [
    "import enum"
   ]
  },
  {
   "cell_type": "code",
   "execution_count": 42,
   "id": "da1c6799",
   "metadata": {},
   "outputs": [],
   "source": [
    "# planet X - 'X'\n",
    "# comet - 'C'\n",
    "# dwarf planet - 'D'\n",
    "# nebula - 'N'\n",
    "# asteroid - 'A'\n",
    "# empty sector -'E'\n",
    "\n",
    "class objects(enum.IntEnum):\n",
    "    not_chosen = 0\n",
    "    X = 1\n",
    "    C = 2\n",
    "    D = 3\n",
    "    N = 4\n",
    "    A = 5\n",
    "    E = 6"
   ]
  },
  {
   "cell_type": "code",
   "execution_count": 61,
   "id": "a81ed041",
   "metadata": {},
   "outputs": [],
   "source": [
    "def add(cur_pos, obj, to_place, available, where):\n",
    "    pos = cur_pos.copy()\n",
    "    pos[to_place] = obj\n",
    "    ret = recursive_put(pos,available, (to_place+1)%12)\n",
    "    if ret == -1:\n",
    "        return\n",
    "    \n",
    "    if isinstance(ret[0], list):\n",
    "        where += ret\n",
    "    \n",
    "    if isinstance(ret[0], int):\n",
    "        where.append(ret)\n",
    "        \n",
    "        \n",
    "def recursive_put(cur_pos, available, to_place):\n",
    "    if cur_pos[to_place] != objects.not_chosen:\n",
    "        return cur_pos\n",
    "    \n",
    "    global situations\n",
    "    pprev_idx = (to_place-2)%12\n",
    "    prev_idx = (to_place-1)%12\n",
    "    next_idx = (to_place+1)%12\n",
    "    \n",
    "    if cur_pos[prev_idx] == objects.A and cur_pos[pprev_idx] != objects.A:\n",
    "        if objects.A in available:\n",
    "            idx = available.index(objects.A)\n",
    "            add(cur_pos, available[idx], to_place, available[:i]+available[i+1:], situations)\n",
    "        else:\n",
    "            return -1\n",
    "    \n",
    "    elif cur_pos[prev_idx] == objects.N and cur_pos[pprev_idx] != objects.E:\n",
    "        if objects.E in available:\n",
    "            idx = available.index(objects.A)\n",
    "            add(cur_pos, available[idx], to_place, available[:i]+available[i+1:], situations)\n",
    "        else:\n",
    "            return -1\n",
    "        \n",
    "    else:\n",
    "        cnt = 0\n",
    "        for i in range(len(available)):\n",
    "#             el = available[i]\n",
    "            if available[i] == objects.X:\n",
    "                if cur_pos[prev_idx] != objects.D and cur_pos[next_idx] != objects.D:\n",
    "                    cnt +=1\n",
    "                    add(cur_pos, available[i], to_place, available[:i]+available[i+1:], situations)\n",
    "\n",
    "            elif available[i] == objects.C:\n",
    "                if to_place in comet_available:\n",
    "                    cnt +=1\n",
    "                    add(cur_pos, available[i], to_place, available[:i]+available[i+1:], situations) \n",
    "\n",
    "            elif available[i] == objects.D:\n",
    "                if cur_pos[prev_idx] != objects.X and cur_pos[next_idx] != objects.X:\n",
    "                    cnt +=1\n",
    "                    add(cur_pos, available[i], to_place, available[:i]+available[i+1:], situations)          \n",
    "\n",
    "            elif available[i] == objects.N:\n",
    "                cnt +=1\n",
    "                add(cur_pos, available[i], to_place, available[:i]+available[i+1:], situations)\n",
    "\n",
    "            elif available[i] == objects.A:\n",
    "                cnt +=1\n",
    "                add(cur_pos, available[i], to_place, available[:i]+available[i+1:], situations)\n",
    "\n",
    "            elif available[i] == objects.E:\n",
    "                cnt +=1\n",
    "                add(cur_pos, available[i], to_place, available[:i]+available[i+1:], situations)         \n",
    "\n",
    "        if cnt == 0:\n",
    "            return -1\n",
    "        \n",
    "    return -1"
   ]
  },
  {
   "cell_type": "code",
   "execution_count": 62,
   "id": "b9d24d98",
   "metadata": {},
   "outputs": [
    {
     "data": {
      "text/plain": [
       "([<objects.X: 1>,\n",
       "  <objects.not_chosen: 0>,\n",
       "  <objects.not_chosen: 0>,\n",
       "  <objects.not_chosen: 0>,\n",
       "  <objects.not_chosen: 0>,\n",
       "  <objects.not_chosen: 0>,\n",
       "  <objects.not_chosen: 0>,\n",
       "  <objects.not_chosen: 0>,\n",
       "  <objects.not_chosen: 0>,\n",
       "  <objects.not_chosen: 0>,\n",
       "  <objects.not_chosen: 0>,\n",
       "  <objects.not_chosen: 0>],\n",
       " [<objects.A: 5>,\n",
       "  <objects.A: 5>,\n",
       "  <objects.A: 5>,\n",
       "  <objects.A: 5>,\n",
       "  <objects.C: 2>,\n",
       "  <objects.C: 2>,\n",
       "  <objects.D: 3>,\n",
       "  <objects.E: 6>,\n",
       "  <objects.E: 6>,\n",
       "  <objects.N: 4>,\n",
       "  <objects.N: 4>])"
      ]
     },
     "execution_count": 62,
     "metadata": {},
     "output_type": "execute_result"
    }
   ],
   "source": [
    "comet_available = [1,2,4,6,10]\n",
    "start_pos = [objects.X] + [objects.not_chosen]*11\n",
    "available = [objects.A]*4 + [objects.C]*2 + [objects.D]*1 + [objects.E]*2 + [objects.N]*2\n",
    "start_pos, available"
   ]
  },
  {
   "cell_type": "code",
   "execution_count": 64,
   "id": "47ab0d0b",
   "metadata": {},
   "outputs": [
    {
     "ename": "UnboundLocalError",
     "evalue": "local variable 'i' referenced before assignment",
     "output_type": "error",
     "traceback": [
      "\u001b[1;31m---------------------------------------------------------------------------\u001b[0m",
      "\u001b[1;31mUnboundLocalError\u001b[0m                         Traceback (most recent call last)",
      "\u001b[1;32m<ipython-input-64-4ab270c430b0>\u001b[0m in \u001b[0;36m<module>\u001b[1;34m\u001b[0m\n\u001b[0;32m      1\u001b[0m \u001b[0msituations\u001b[0m \u001b[1;33m=\u001b[0m \u001b[1;33m[\u001b[0m\u001b[1;33m]\u001b[0m\u001b[1;33m\u001b[0m\u001b[1;33m\u001b[0m\u001b[0m\n\u001b[1;32m----> 2\u001b[1;33m \u001b[0mrecursive_put\u001b[0m\u001b[1;33m(\u001b[0m\u001b[0mstart_pos\u001b[0m\u001b[1;33m,\u001b[0m \u001b[0mavailable\u001b[0m\u001b[1;33m,\u001b[0m \u001b[1;36m1\u001b[0m\u001b[1;33m)\u001b[0m\u001b[1;33m\u001b[0m\u001b[1;33m\u001b[0m\u001b[0m\n\u001b[0m",
      "\u001b[1;32m<ipython-input-61-2e63b09bd090>\u001b[0m in \u001b[0;36mrecursive_put\u001b[1;34m(cur_pos, available, to_place)\u001b[0m\n\u001b[0;32m     61\u001b[0m             \u001b[1;32melif\u001b[0m \u001b[0mavailable\u001b[0m\u001b[1;33m[\u001b[0m\u001b[0mi\u001b[0m\u001b[1;33m]\u001b[0m \u001b[1;33m==\u001b[0m \u001b[0mobjects\u001b[0m\u001b[1;33m.\u001b[0m\u001b[0mA\u001b[0m\u001b[1;33m:\u001b[0m\u001b[1;33m\u001b[0m\u001b[1;33m\u001b[0m\u001b[0m\n\u001b[0;32m     62\u001b[0m                 \u001b[0mcnt\u001b[0m \u001b[1;33m+=\u001b[0m\u001b[1;36m1\u001b[0m\u001b[1;33m\u001b[0m\u001b[1;33m\u001b[0m\u001b[0m\n\u001b[1;32m---> 63\u001b[1;33m                 \u001b[0madd\u001b[0m\u001b[1;33m(\u001b[0m\u001b[0mcur_pos\u001b[0m\u001b[1;33m,\u001b[0m \u001b[0mavailable\u001b[0m\u001b[1;33m[\u001b[0m\u001b[0mi\u001b[0m\u001b[1;33m]\u001b[0m\u001b[1;33m,\u001b[0m \u001b[0mto_place\u001b[0m\u001b[1;33m,\u001b[0m \u001b[0mavailable\u001b[0m\u001b[1;33m[\u001b[0m\u001b[1;33m:\u001b[0m\u001b[0mi\u001b[0m\u001b[1;33m]\u001b[0m\u001b[1;33m+\u001b[0m\u001b[0mavailable\u001b[0m\u001b[1;33m[\u001b[0m\u001b[0mi\u001b[0m\u001b[1;33m+\u001b[0m\u001b[1;36m1\u001b[0m\u001b[1;33m:\u001b[0m\u001b[1;33m]\u001b[0m\u001b[1;33m,\u001b[0m \u001b[0msituations\u001b[0m\u001b[1;33m)\u001b[0m\u001b[1;33m\u001b[0m\u001b[1;33m\u001b[0m\u001b[0m\n\u001b[0m\u001b[0;32m     64\u001b[0m \u001b[1;33m\u001b[0m\u001b[0m\n\u001b[0;32m     65\u001b[0m             \u001b[1;32melif\u001b[0m \u001b[0mavailable\u001b[0m\u001b[1;33m[\u001b[0m\u001b[0mi\u001b[0m\u001b[1;33m]\u001b[0m \u001b[1;33m==\u001b[0m \u001b[0mobjects\u001b[0m\u001b[1;33m.\u001b[0m\u001b[0mE\u001b[0m\u001b[1;33m:\u001b[0m\u001b[1;33m\u001b[0m\u001b[1;33m\u001b[0m\u001b[0m\n",
      "\u001b[1;32m<ipython-input-61-2e63b09bd090>\u001b[0m in \u001b[0;36madd\u001b[1;34m(cur_pos, obj, to_place, available, where)\u001b[0m\n\u001b[0;32m      2\u001b[0m     \u001b[0mpos\u001b[0m \u001b[1;33m=\u001b[0m \u001b[0mcur_pos\u001b[0m\u001b[1;33m.\u001b[0m\u001b[0mcopy\u001b[0m\u001b[1;33m(\u001b[0m\u001b[1;33m)\u001b[0m\u001b[1;33m\u001b[0m\u001b[1;33m\u001b[0m\u001b[0m\n\u001b[0;32m      3\u001b[0m     \u001b[0mpos\u001b[0m\u001b[1;33m[\u001b[0m\u001b[0mto_place\u001b[0m\u001b[1;33m]\u001b[0m \u001b[1;33m=\u001b[0m \u001b[0mobj\u001b[0m\u001b[1;33m\u001b[0m\u001b[1;33m\u001b[0m\u001b[0m\n\u001b[1;32m----> 4\u001b[1;33m     \u001b[0mret\u001b[0m \u001b[1;33m=\u001b[0m \u001b[0mrecursive_put\u001b[0m\u001b[1;33m(\u001b[0m\u001b[0mpos\u001b[0m\u001b[1;33m,\u001b[0m\u001b[0mavailable\u001b[0m\u001b[1;33m,\u001b[0m \u001b[1;33m(\u001b[0m\u001b[0mto_place\u001b[0m\u001b[1;33m+\u001b[0m\u001b[1;36m1\u001b[0m\u001b[1;33m)\u001b[0m\u001b[1;33m%\u001b[0m\u001b[1;36m12\u001b[0m\u001b[1;33m)\u001b[0m\u001b[1;33m\u001b[0m\u001b[1;33m\u001b[0m\u001b[0m\n\u001b[0m\u001b[0;32m      5\u001b[0m     \u001b[1;32mif\u001b[0m \u001b[0mret\u001b[0m \u001b[1;33m==\u001b[0m \u001b[1;33m-\u001b[0m\u001b[1;36m1\u001b[0m\u001b[1;33m:\u001b[0m\u001b[1;33m\u001b[0m\u001b[1;33m\u001b[0m\u001b[0m\n\u001b[0;32m      6\u001b[0m         \u001b[1;32mreturn\u001b[0m\u001b[1;33m\u001b[0m\u001b[1;33m\u001b[0m\u001b[0m\n",
      "\u001b[1;32m<ipython-input-61-2e63b09bd090>\u001b[0m in \u001b[0;36mrecursive_put\u001b[1;34m(cur_pos, available, to_place)\u001b[0m\n\u001b[0;32m     25\u001b[0m         \u001b[1;32mif\u001b[0m \u001b[0mobjects\u001b[0m\u001b[1;33m.\u001b[0m\u001b[0mA\u001b[0m \u001b[1;32min\u001b[0m \u001b[0mavailable\u001b[0m\u001b[1;33m:\u001b[0m\u001b[1;33m\u001b[0m\u001b[1;33m\u001b[0m\u001b[0m\n\u001b[0;32m     26\u001b[0m             \u001b[0midx\u001b[0m \u001b[1;33m=\u001b[0m \u001b[0mavailable\u001b[0m\u001b[1;33m.\u001b[0m\u001b[0mindex\u001b[0m\u001b[1;33m(\u001b[0m\u001b[0mobjects\u001b[0m\u001b[1;33m.\u001b[0m\u001b[0mA\u001b[0m\u001b[1;33m)\u001b[0m\u001b[1;33m\u001b[0m\u001b[1;33m\u001b[0m\u001b[0m\n\u001b[1;32m---> 27\u001b[1;33m             \u001b[0madd\u001b[0m\u001b[1;33m(\u001b[0m\u001b[0mcur_pos\u001b[0m\u001b[1;33m,\u001b[0m \u001b[0mavailable\u001b[0m\u001b[1;33m[\u001b[0m\u001b[0midx\u001b[0m\u001b[1;33m]\u001b[0m\u001b[1;33m,\u001b[0m \u001b[0mto_place\u001b[0m\u001b[1;33m,\u001b[0m \u001b[0mavailable\u001b[0m\u001b[1;33m[\u001b[0m\u001b[1;33m:\u001b[0m\u001b[0mi\u001b[0m\u001b[1;33m]\u001b[0m\u001b[1;33m+\u001b[0m\u001b[0mavailable\u001b[0m\u001b[1;33m[\u001b[0m\u001b[0mi\u001b[0m\u001b[1;33m+\u001b[0m\u001b[1;36m1\u001b[0m\u001b[1;33m:\u001b[0m\u001b[1;33m]\u001b[0m\u001b[1;33m,\u001b[0m \u001b[0msituations\u001b[0m\u001b[1;33m)\u001b[0m\u001b[1;33m\u001b[0m\u001b[1;33m\u001b[0m\u001b[0m\n\u001b[0m\u001b[0;32m     28\u001b[0m         \u001b[1;32melse\u001b[0m\u001b[1;33m:\u001b[0m\u001b[1;33m\u001b[0m\u001b[1;33m\u001b[0m\u001b[0m\n\u001b[0;32m     29\u001b[0m             \u001b[1;32mreturn\u001b[0m \u001b[1;33m-\u001b[0m\u001b[1;36m1\u001b[0m\u001b[1;33m\u001b[0m\u001b[1;33m\u001b[0m\u001b[0m\n",
      "\u001b[1;31mUnboundLocalError\u001b[0m: local variable 'i' referenced before assignment"
     ]
    }
   ],
   "source": [
    "situations = []\n",
    "recursive_put(start_pos, available, 1)"
   ]
  },
  {
   "cell_type": "code",
   "execution_count": null,
   "id": "b976ac87",
   "metadata": {},
   "outputs": [],
   "source": []
  },
  {
   "cell_type": "code",
   "execution_count": null,
   "id": "88ce1ee2",
   "metadata": {},
   "outputs": [],
   "source": []
  },
  {
   "cell_type": "code",
   "execution_count": null,
   "id": "932089a7",
   "metadata": {},
   "outputs": [],
   "source": []
  }
 ],
 "metadata": {
  "kernelspec": {
   "display_name": "Python 3",
   "language": "python",
   "name": "python3"
  },
  "language_info": {
   "codemirror_mode": {
    "name": "ipython",
    "version": 3
   },
   "file_extension": ".py",
   "mimetype": "text/x-python",
   "name": "python",
   "nbconvert_exporter": "python",
   "pygments_lexer": "ipython3",
   "version": "3.8.3"
  }
 },
 "nbformat": 4,
 "nbformat_minor": 5
}
