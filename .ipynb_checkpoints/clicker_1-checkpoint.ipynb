{
 "cells": [
  {
   "cell_type": "code",
   "execution_count": 247,
   "id": "f73c00c2",
   "metadata": {},
   "outputs": [],
   "source": [
    "import pywinauto.mouse as pwm\n",
    "import time as t\n",
    "import pywinauto.keyboard as pwk\n",
    "import pywinauto as pw"
   ]
  },
  {
   "cell_type": "code",
   "execution_count": 80,
   "id": "8d89d0c1",
   "metadata": {},
   "outputs": [
    {
     "data": {
      "text/plain": [
       "[]"
      ]
     },
     "execution_count": 80,
     "metadata": {},
     "output_type": "execute_result"
    }
   ],
   "source": []
  },
  {
   "cell_type": "code",
   "execution_count": 260,
   "id": "87fce5e8",
   "metadata": {},
   "outputs": [
    {
     "data": {
      "text/plain": [
       "Point(x=136, y=66)"
      ]
     },
     "execution_count": 260,
     "metadata": {},
     "output_type": "execute_result"
    }
   ],
   "source": [
    "t.sleep(4)\n",
    "pag.position()"
   ]
  },
  {
   "cell_type": "code",
   "execution_count": 98,
   "id": "3cf21ecf",
   "metadata": {},
   "outputs": [],
   "source": [
    "pag.click(*pos_site_X)\n",
    "t.sleep(0.2)"
   ]
  },
  {
   "cell_type": "code",
   "execution_count": null,
   "id": "effaa176",
   "metadata": {},
   "outputs": [],
   "source": []
  },
  {
   "cell_type": "code",
   "execution_count": 123,
   "id": "d920bcad",
   "metadata": {},
   "outputs": [],
   "source": [
    "def get_codes(s):\n",
    "    codes = []\n",
    "    mode = 'wait'\n",
    "    cur_code = ''\n",
    "    for i, el in enumerate(s):\n",
    "        if el == '\"':\n",
    "            if mode == 'wait':\n",
    "                mode = 'write'\n",
    "                \n",
    "            elif mode == 'write':\n",
    "                mode = 'wait'\n",
    "                codes.append(cur_code)\n",
    "                cur_code = ''\n",
    "        else:\n",
    "            if mode == 'wait':\n",
    "                continue\n",
    "            elif mode == 'write':\n",
    "                cur_code = cur_code + el\n",
    "                \n",
    "    return codes"
   ]
  },
  {
   "cell_type": "code",
   "execution_count": 124,
   "id": "41cf7fe5",
   "metadata": {},
   "outputs": [],
   "source": [
    "with open('px.txt') as f:\n",
    "    A = f.read().split(':')\n",
    "    A = A[1:]\n",
    "    b = A[0].split('\\n')[0]\n",
    "    e = A[1].split('\\n')[0]\n",
    "    codes_simple = get_codes(b)\n",
    "    codes_expert = get_codes(e)"
   ]
  },
  {
   "cell_type": "code",
   "execution_count": 126,
   "id": "abaf2636",
   "metadata": {},
   "outputs": [
    {
     "data": {
      "text/plain": [
       "['B3A2',\n",
       " 'B3A3',\n",
       " 'B3A4',\n",
       " 'B3A5',\n",
       " 'B3A6',\n",
       " 'B3A7',\n",
       " 'B3A8',\n",
       " 'B3A9',\n",
       " 'B3B2',\n",
       " 'B3B3']"
      ]
     },
     "execution_count": 126,
     "metadata": {},
     "output_type": "execute_result"
    }
   ],
   "source": [
    "\n",
    "codes_simple[:10]"
   ]
  },
  {
   "cell_type": "code",
   "execution_count": 233,
   "id": "00fa1a06",
   "metadata": {},
   "outputs": [],
   "source": [
    "def start_one_game(key):\n",
    "    pos_site_X = (1040, 20)\n",
    "    pos_enter_game = (1604, 634)\n",
    "    pos_join = (1618, 391)\n",
    "    pos_cancel = (1606, 530)\n",
    "    pause_dur = 0.1\n",
    "    game_load_pause = 1\n",
    "\n",
    "    pwm.click(coords=pos_site_X)\n",
    "    t.sleep(pause_dur)\n",
    "    pwm.click(coords=pos_enter_game)\n",
    "    t.sleep(pause_dur)\n",
    "    pwk.send_keys(key, pause=0.01)\n",
    "    t.sleep(pause_dur)\n",
    "    pwm.click(coords=pos_join)\n",
    "    t.sleep(game_load_pause)\n",
    "    pwm.click(coords=pos_cancel)\n",
    "    t.sleep(pause_dur)\n"
   ]
  },
  {
   "cell_type": "code",
   "execution_count": 234,
   "id": "7dd20e88",
   "metadata": {},
   "outputs": [],
   "source": [
    "def get_file(key):\n",
    "    pos_new_site = (1439, 20)\n",
    "    pos_close_window = (1640, 23)\n",
    "    pos_right_click = (813, 170)\n",
    "    pos_save = (870, 310)\n",
    "    pause_dur = 0.1\n",
    "    file_load_pause = 0.5\n",
    "    s = 'https://web.planetxapp.com/assets/maps/'\n",
    "    global uploaded\n",
    "    \n",
    "    pwm.click(coords=pos_new_site)\n",
    "    t.sleep(pause_dur)\n",
    "    pwk.send_keys(s+key+'.json', pause=0.01)\n",
    "    pwk.send_keys('{ENTER}')\n",
    "    t.sleep(pause_dur)\n",
    "    pwm.right_click(coords=pos_right_click)\n",
    "    t.sleep(pause_dur)\n",
    "    pwm.click(coords=pos_save)\n",
    "    t.sleep(file_load_pause)\n",
    "    pwm.click(coords=pos_close_window)\n",
    "    uploaded.append(key)\n",
    "    t.sleep(pause_dur)"
   ]
  },
  {
   "cell_type": "code",
   "execution_count": 209,
   "id": "7d931a13",
   "metadata": {},
   "outputs": [],
   "source": [
    "start_one_game(codes_simple[0])"
   ]
  },
  {
   "cell_type": "code",
   "execution_count": 210,
   "id": "660834f8",
   "metadata": {},
   "outputs": [],
   "source": [
    "get_file(codes_simple[0])"
   ]
  },
  {
   "cell_type": "code",
   "execution_count": 194,
   "id": "08711ffd",
   "metadata": {},
   "outputs": [],
   "source": [
    "uploaded = []"
   ]
  },
  {
   "cell_type": "code",
   "execution_count": 263,
   "id": "03077c49",
   "metadata": {},
   "outputs": [
    {
     "name": "stdout",
     "output_type": "stream",
     "text": [
      "Wall time: 23.9 s\n"
     ]
    }
   ],
   "source": [
    "%%time\n",
    "for i, key in enumerate(codes_simple[len(uploaded):len(uploaded)+30]):\n",
    "#     if key in uploaded:\n",
    "#         continue\n",
    "    start_one_game(key)\n",
    "    get_file(key)\n",
    "    if not i%20:\n",
    "        pwm.click(coords=(1040, 20))\n",
    "        t.sleep(0.1)\n",
    "        pwm.click(coords=(136, 66))\n",
    "        t.sleep(5)"
   ]
  },
  {
   "cell_type": "code",
   "execution_count": 264,
   "id": "5a02c9ba",
   "metadata": {},
   "outputs": [
    {
     "data": {
      "text/plain": [
       "466"
      ]
     },
     "execution_count": 264,
     "metadata": {},
     "output_type": "execute_result"
    }
   ],
   "source": [
    "len(uploaded)"
   ]
  },
  {
   "cell_type": "code",
   "execution_count": 262,
   "id": "fdcf6ef3",
   "metadata": {},
   "outputs": [
    {
     "data": {
      "text/plain": [
       "'C6D8'"
      ]
     },
     "execution_count": 262,
     "metadata": {},
     "output_type": "execute_result"
    }
   ],
   "source": [
    "uploaded[-1]"
   ]
  },
  {
   "cell_type": "code",
   "execution_count": null,
   "id": "e990ef62",
   "metadata": {},
   "outputs": [],
   "source": []
  }
 ],
 "metadata": {
  "kernelspec": {
   "display_name": "Python 3",
   "language": "python",
   "name": "python3"
  },
  "language_info": {
   "codemirror_mode": {
    "name": "ipython",
    "version": 3
   },
   "file_extension": ".py",
   "mimetype": "text/x-python",
   "name": "python",
   "nbconvert_exporter": "python",
   "pygments_lexer": "ipython3",
   "version": "3.8.3"
  }
 },
 "nbformat": 4,
 "nbformat_minor": 5
}
