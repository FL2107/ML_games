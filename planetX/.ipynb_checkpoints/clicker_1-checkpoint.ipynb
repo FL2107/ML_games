{
 "cells": [
  {
   "cell_type": "code",
   "execution_count": 14,
   "id": "97c6180b",
   "metadata": {},
   "outputs": [],
   "source": [
    "import pywinauto.mouse as pwm\n",
    "import time as t\n",
    "import pywinauto.keyboard as pwk\n",
    "import pywinauto as pw\n",
    "from pyautogui import position"
   ]
  },
  {
   "cell_type": "code",
   "execution_count": 40,
   "id": "872f0436",
   "metadata": {},
   "outputs": [
    {
     "name": "stdout",
     "output_type": "stream",
     "text": [
      "Point(x=811, y=19)\n"
     ]
    },
    {
     "data": {
      "text/plain": [
       "Point(x=113, y=61)"
      ]
     },
     "execution_count": 40,
     "metadata": {},
     "output_type": "execute_result"
    }
   ],
   "source": [
    "t.sleep(2)\n",
    "print(position())\n",
    "t.sleep(2)\n",
    "position()"
   ]
  },
  {
   "cell_type": "code",
   "execution_count": 3,
   "id": "90cd8538",
   "metadata": {},
   "outputs": [],
   "source": [
    "def get_codes(s):\n",
    "    codes = []\n",
    "    mode = 'wait'\n",
    "    cur_code = ''\n",
    "    for i, el in enumerate(s):\n",
    "        if el == '\"':\n",
    "            if mode == 'wait':\n",
    "                mode = 'write'\n",
    "                \n",
    "            elif mode == 'write':\n",
    "                mode = 'wait'\n",
    "                codes.append(cur_code)\n",
    "                cur_code = ''\n",
    "        else:\n",
    "            if mode == 'wait':\n",
    "                continue\n",
    "            elif mode == 'write':\n",
    "                cur_code = cur_code + el\n",
    "                \n",
    "    return codes"
   ]
  },
  {
   "cell_type": "code",
   "execution_count": 4,
   "id": "a39ff42a",
   "metadata": {},
   "outputs": [],
   "source": [
    "with open('px.txt') as f:\n",
    "    A = f.read().split(':')\n",
    "    A = A[1:]\n",
    "    b = A[0].split('\\n')[0]\n",
    "    e = A[1].split('\\n')[0]\n",
    "    codes_simple = get_codes(b)\n",
    "    codes_expert = get_codes(e)"
   ]
  },
  {
   "cell_type": "code",
   "execution_count": 95,
   "id": "500ec7da",
   "metadata": {},
   "outputs": [
    {
     "data": {
      "text/plain": [
       "['B3A2', 'B3A3', 'B3A4', 'B3A5', 'B3A6']"
      ]
     },
     "execution_count": 95,
     "metadata": {},
     "output_type": "execute_result"
    }
   ],
   "source": [
    "with open('keys_basic.txt') as f:\n",
    "    A = f.read()\n",
    "    codes_simple = get_codes(A[1:-1])\n",
    "codes_simple[:5]"
   ]
  },
  {
   "cell_type": "code",
   "execution_count": 116,
   "id": "ce9c34b5",
   "metadata": {},
   "outputs": [],
   "source": [
    "def start_one_game(key):\n",
    "    pos_site_X = (850, 20)\n",
    "    pos_enter_game = (1277, 500)\n",
    "    pos_join = (1270, 313)\n",
    "    pos_cancel = (1280, 423)\n",
    "    pause_dur = 0.3\n",
    "    game_load_pause = 1.5\n",
    "\n",
    "    pwm.click(coords=pos_site_X)\n",
    "    t.sleep(pause_dur)\n",
    "    pwm.click(coords=pos_enter_game)\n",
    "    t.sleep(pause_dur)\n",
    "    pwk.send_keys(key, pause=0.01)\n",
    "    t.sleep(pause_dur)\n",
    "    pwm.click(coords=pos_join)\n",
    "    t.sleep(game_load_pause)\n",
    "    pwm.click(coords=pos_cancel)\n",
    "    t.sleep(pause_dur)\n"
   ]
  },
  {
   "cell_type": "code",
   "execution_count": 93,
   "id": "e902501c",
   "metadata": {},
   "outputs": [],
   "source": [
    "def get_file(key):\n",
    "    pos_new_site = (956, 18)\n",
    "    pos_close_window = (1111, 17)\n",
    "    pos_right_click = (591, 134)\n",
    "    pos_save = (644, 251)\n",
    "    pause_dur = 0.1\n",
    "    file_load_pause = 0.5\n",
    "    s = 'https://web.planetxapp.com/assets/maps/'\n",
    "    global uploaded\n",
    "    \n",
    "    pwm.click(coords=pos_new_site)\n",
    "    t.sleep(pause_dur)\n",
    "    pwk.send_keys(s+key+'.json', pause=0.01)\n",
    "    pwk.send_keys('{ENTER}')\n",
    "    t.sleep(pause_dur)\n",
    "    pwm.right_click(coords=pos_right_click)\n",
    "    t.sleep(pause_dur)\n",
    "    pwm.click(coords=pos_save)\n",
    "    t.sleep(file_load_pause)\n",
    "    pwm.click(coords=pos_close_window)\n",
    "    uploaded.append(key)\n",
    "    t.sleep(pause_dur)"
   ]
  },
  {
   "cell_type": "code",
   "execution_count": 180,
   "id": "4eb56ea4",
   "metadata": {},
   "outputs": [],
   "source": [
    "start_one_game(codes_simple[0])"
   ]
  },
  {
   "cell_type": "code",
   "execution_count": 36,
   "id": "6caaddde",
   "metadata": {},
   "outputs": [],
   "source": [
    "get_file(codes_simple[0])"
   ]
  },
  {
   "cell_type": "code",
   "execution_count": 96,
   "id": "94830868",
   "metadata": {},
   "outputs": [],
   "source": [
    "last = 'D5G8'\n",
    "uploaded = []\n",
    "for key in codes_simple:\n",
    "    uploaded.append(key)\n",
    "    if key == last:\n",
    "        break\n"
   ]
  },
  {
   "cell_type": "code",
   "execution_count": 184,
   "id": "3083a153",
   "metadata": {},
   "outputs": [
    {
     "name": "stdout",
     "output_type": "stream",
     "text": [
      "Wall time: 14.7 s\n"
     ]
    }
   ],
   "source": [
    "%%time\n",
    "for i, key in enumerate(codes_simple[len(uploaded):len(uploaded)+44]):\n",
    "#     if key in uploaded:\n",
    "#         continue\n",
    "    start_one_game(key)\n",
    "    get_file(key)\n",
    "    if i%20==5:\n",
    "        pwm.click(coords=(811, 19))\n",
    "        t.sleep(0.1)\n",
    "        pwm.click(coords=(113, 61))\n",
    "        t.sleep(5)"
   ]
  },
  {
   "cell_type": "code",
   "execution_count": 185,
   "id": "ca1eb6f4",
   "metadata": {},
   "outputs": [
    {
     "data": {
      "text/plain": [
       "1822"
      ]
     },
     "execution_count": 185,
     "metadata": {},
     "output_type": "execute_result"
    }
   ],
   "source": [
    "len(uploaded)"
   ]
  },
  {
   "cell_type": "code",
   "execution_count": 170,
   "id": "46e56156",
   "metadata": {},
   "outputs": [],
   "source": [
    "uploaded = uploaded[:-1]"
   ]
  },
  {
   "cell_type": "code",
   "execution_count": 186,
   "id": "35f09b09",
   "metadata": {},
   "outputs": [
    {
     "data": {
      "text/plain": [
       "['K8Z5', 'K8Z6', 'K8Z8']"
      ]
     },
     "execution_count": 186,
     "metadata": {},
     "output_type": "execute_result"
    }
   ],
   "source": [
    "uploaded[-3:]"
   ]
  },
  {
   "cell_type": "code",
   "execution_count": 62,
   "id": "8e2c31c7",
   "metadata": {},
   "outputs": [
    {
     "data": {
      "text/plain": [
       "505"
      ]
     },
     "execution_count": 62,
     "metadata": {},
     "output_type": "execute_result"
    }
   ],
   "source": [
    "codes_simple.index('C6M3')"
   ]
  },
  {
   "cell_type": "code",
   "execution_count": null,
   "id": "cb00fba9",
   "metadata": {},
   "outputs": [],
   "source": []
  },
  {
   "cell_type": "code",
   "execution_count": null,
   "id": "1a2c9083",
   "metadata": {},
   "outputs": [],
   "source": []
  }
 ],
 "metadata": {
  "kernelspec": {
   "display_name": "Python 3",
   "language": "python",
   "name": "python3"
  },
  "language_info": {
   "codemirror_mode": {
    "name": "ipython",
    "version": 3
   },
   "file_extension": ".py",
   "mimetype": "text/x-python",
   "name": "python",
   "nbconvert_exporter": "python",
   "pygments_lexer": "ipython3",
   "version": "3.8.3"
  }
 },
 "nbformat": 4,
 "nbformat_minor": 5
}
